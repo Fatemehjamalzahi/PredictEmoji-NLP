{
 "cells": [
  {
   "cell_type": "markdown",
   "id": "6bff3fb9",
   "metadata": {},
   "source": [
    "# multi-hot encode"
   ]
  },
  {
   "cell_type": "code",
   "execution_count": 2,
   "id": "30095411",
   "metadata": {},
   "outputs": [],
   "source": [
    "import numpy as np\n",
    "import tensorflow as tf\n",
    "from tensorflow.keras.preprocessing.text import Tokenizer\n",
    "from tensorflow.keras.utils import to_categorical\n",
    "from tensorflow.keras.models import Sequential\n",
    "from tensorflow.keras.layers import Dense, Dropout\n",
    "import pandas as pd\n",
    "import matplotlib.pyplot as plt"
   ]
  },
  {
   "cell_type": "code",
   "execution_count": 2,
   "id": "0b633626",
   "metadata": {},
   "outputs": [],
   "source": [
    "train = pd.read_csv(\"train_emoji.csv\")\n",
    "test = pd.read_csv(\"tesss.csv\")\n",
    "x_train = train.iloc[: , 0]\n",
    "y_train = train.iloc[: , 1]\n",
    "x_test = test.iloc[: , 0]\n",
    "y_test = test.iloc[: , 1]"
   ]
  },
  {
   "cell_type": "code",
   "execution_count": 3,
   "id": "8616ac53",
   "metadata": {},
   "outputs": [
    {
     "name": "stdout",
     "output_type": "stream",
     "text": [
      "333\n"
     ]
    }
   ],
   "source": [
    "all_texts = x_train.tolist() + x_test.tolist()\n",
    "\n",
    "vocab = {}\n",
    "for text in all_texts:\n",
    "    for word in text.split():\n",
    "        if word not in vocab:\n",
    "            vocab[word] = len(vocab)\n",
    "\n",
    "num_words = len(vocab)\n",
    "print(num_words)"
   ]
  },
  {
   "cell_type": "code",
   "execution_count": 4,
   "id": "dd344ac9",
   "metadata": {},
   "outputs": [
    {
     "name": "stdout",
     "output_type": "stream",
     "text": [
      "[[1. 1. 1. ... 0. 0. 0.]\n",
      " [0. 0. 0. ... 0. 0. 0.]\n",
      " [0. 1. 0. ... 0. 0. 0.]\n",
      " ...\n",
      " [0. 0. 0. ... 0. 0. 0.]\n",
      " [0. 0. 0. ... 0. 0. 0.]\n",
      " [0. 0. 0. ... 0. 0. 0.]]\n",
      "333\n"
     ]
    }
   ],
   "source": [
    "\n",
    "def multi_hot_encode(text, vocab):\n",
    "    words = text.split()\n",
    "    multi_hot_vector = np.zeros(num_words)\n",
    "    for word in words:\n",
    "        if word in vocab:\n",
    "            index = vocab[word]\n",
    "            multi_hot_vector[index] = 1\n",
    "    return multi_hot_vector\n",
    "\n",
    "# انکود کردن داده‌های آموزش و تست\n",
    "x_train = np.array([multi_hot_encode(text, vocab) for text in x_train])\n",
    "x_test = np.array([multi_hot_encode(text, vocab) for text in x_test])\n",
    "print(x_train)\n",
    "print(len(x_train[0]))\n"
   ]
  },
  {
   "cell_type": "code",
   "execution_count": 5,
   "id": "6e354dd7",
   "metadata": {},
   "outputs": [],
   "source": [
    "import numpy as np\n",
    "\n",
    "# Example data (replace with your actual data)\n",
    "y_train = np.array(y_train.tolist())  # Example of training labels\n",
    "y_test = np.array(y_test.tolist())        # Example of test labels\n",
    "\n",
    "num_emojis = 5  # Number of classes (emojis)\n",
    "\n",
    "def one_hot_encode(index, num_classes):\n",
    "    one_hot_vector = np.zeros(num_classes)\n",
    "    one_hot_vector[int(index)] = 1  # Ensure index is cast to int\n",
    "    return one_hot_vector\n",
    "\n",
    "# Ensure y_train and y_test are of integer type\n",
    "y_train = y_train.astype(int)\n",
    "y_test = y_test.astype(int)\n",
    "\n",
    "# Encode training labels\n",
    "y_train = np.array([one_hot_encode(label, num_emojis) for label in y_train])\n",
    "\n",
    "# Encode test labels (convert to list first if needed)\n",
    "y_test = np.array([one_hot_encode(label, num_emojis) for label in y_test])\n",
    "\n",
    "\n"
   ]
  },
  {
   "cell_type": "code",
   "execution_count": 6,
   "id": "9dbb319c",
   "metadata": {},
   "outputs": [
    {
     "name": "stdout",
     "output_type": "stream",
     "text": [
      "Model: \"sequential\"\n",
      "_________________________________________________________________\n",
      " Layer (type)                Output Shape              Param #   \n",
      "=================================================================\n",
      " dense (Dense)               (None, 128)               42752     \n",
      "                                                                 \n",
      " dropout (Dropout)           (None, 128)               0         \n",
      "                                                                 \n",
      " dense_1 (Dense)             (None, 64)                8256      \n",
      "                                                                 \n",
      " dropout_1 (Dropout)         (None, 64)                0         \n",
      "                                                                 \n",
      " dense_2 (Dense)             (None, 5)                 325       \n",
      "                                                                 \n",
      "=================================================================\n",
      "Total params: 51,333\n",
      "Trainable params: 51,333\n",
      "Non-trainable params: 0\n",
      "_________________________________________________________________\n"
     ]
    }
   ],
   "source": [
    "import tensorflow as tf\n",
    "from tensorflow.keras.models import Sequential\n",
    "from tensorflow.keras.layers import Dense, Dropout\n",
    "\n",
    "input_dim = num_words\n",
    "output_dim = num_emojis\n",
    "\n",
    "# ساخت مدل\n",
    "model = Sequential()\n",
    "model.add(Dense(128, input_dim=input_dim, activation='relu'))\n",
    "model.add(Dropout(0.5))\n",
    "model.add(Dense(64, activation='relu'))\n",
    "model.add(Dropout(0.5))\n",
    "model.add(Dense(output_dim, activation='softmax'))\n",
    "\n",
    "# کامپایل کردن مدل\n",
    "model.compile(loss='categorical_crossentropy', optimizer='adam', metrics=['accuracy'])\n",
    "\n",
    "# نمایش خلاصه‌ای از مدل\n",
    "model.summary()\n"
   ]
  },
  {
   "cell_type": "code",
   "execution_count": null,
   "id": "8913abe7",
   "metadata": {},
   "outputs": [],
   "source": []
  },
  {
   "cell_type": "code",
   "execution_count": 7,
   "id": "b9aa0e2d",
   "metadata": {},
   "outputs": [
    {
     "name": "stdout",
     "output_type": "stream",
     "text": [
      "Epoch 1/10\n",
      "52/52 [==============================] - 2s 17ms/step - loss: 1.6011 - accuracy: 0.2115 - val_loss: 1.6184 - val_accuracy: 0.1852\n",
      "Epoch 2/10\n",
      "52/52 [==============================] - 0s 5ms/step - loss: 1.5211 - accuracy: 0.3365 - val_loss: 1.6270 - val_accuracy: 0.2222\n",
      "Epoch 3/10\n",
      "52/52 [==============================] - 0s 5ms/step - loss: 1.4432 - accuracy: 0.3942 - val_loss: 1.6248 - val_accuracy: 0.1852\n",
      "Epoch 4/10\n",
      "52/52 [==============================] - 0s 5ms/step - loss: 1.3642 - accuracy: 0.4327 - val_loss: 1.6340 - val_accuracy: 0.2222\n",
      "Epoch 5/10\n",
      "52/52 [==============================] - 0s 5ms/step - loss: 1.2815 - accuracy: 0.5385 - val_loss: 1.6393 - val_accuracy: 0.2593\n",
      "Epoch 6/10\n",
      "52/52 [==============================] - 0s 5ms/step - loss: 1.1258 - accuracy: 0.5673 - val_loss: 1.6319 - val_accuracy: 0.2593\n",
      "Epoch 7/10\n",
      "52/52 [==============================] - 0s 5ms/step - loss: 1.0484 - accuracy: 0.6442 - val_loss: 1.5803 - val_accuracy: 0.2593\n",
      "Epoch 8/10\n",
      "52/52 [==============================] - 0s 5ms/step - loss: 0.9060 - accuracy: 0.6923 - val_loss: 1.6049 - val_accuracy: 0.2222\n",
      "Epoch 9/10\n",
      "52/52 [==============================] - 0s 6ms/step - loss: 0.7814 - accuracy: 0.7404 - val_loss: 1.5744 - val_accuracy: 0.1852\n",
      "Epoch 10/10\n",
      "52/52 [==============================] - 0s 5ms/step - loss: 0.6375 - accuracy: 0.8269 - val_loss: 1.5422 - val_accuracy: 0.2593\n"
     ]
    }
   ],
   "source": [
    "# آموزش مدل\n",
    "history = model.fit(x_train ,y_train , epochs=10,\n",
    "          batch_size=2\n",
    "         , validation_split=0.2)\n",
    "\n",
    "# ارزیابی مدل\n"
   ]
  },
  {
   "cell_type": "code",
   "execution_count": 8,
   "id": "8aedda78",
   "metadata": {},
   "outputs": [
    {
     "name": "stdout",
     "output_type": "stream",
     "text": [
      "2/2 [==============================] - 0s 8ms/step - loss: 1.2263 - accuracy: 0.5091\n",
      "Accuracy: 50.91%\n"
     ]
    }
   ],
   "source": [
    "loss, accuracy = model.evaluate(x_test, y_test)\n",
    "print(f'Accuracy: {accuracy*100:.2f}%')\n"
   ]
  },
  {
   "cell_type": "code",
   "execution_count": 9,
   "id": "02339742",
   "metadata": {},
   "outputs": [
    {
     "data": {
      "text/plain": [
       "dict_keys(['loss', 'accuracy', 'val_loss', 'val_accuracy'])"
      ]
     },
     "execution_count": 9,
     "metadata": {},
     "output_type": "execute_result"
    }
   ],
   "source": [
    "history_dict = history.history\n",
    "history_dict.keys()\n",
    "#plot for accuracy and loss "
   ]
  },
  {
   "cell_type": "code",
   "execution_count": null,
   "id": "06fd998a",
   "metadata": {},
   "outputs": [],
   "source": [
    "import matplotlib.pyplot as plt\n",
    "history_dict = history.history\n",
    "loss_values = history_dict[\"loss\"]\n",
    "val_loss_values = history_dict[\"val_loss\"]\n",
    "epochs = range(1, len(loss_values) + 1)\n",
    "plt.plot(epochs, loss_values, \"bo\", label=\"Training loss\")\n",
    "plt.plot(epochs, val_loss_values, \"b\", label=\"Validation loss\")\n",
    "plt.title(\"Training and validation loss\")\n",
    "plt.xlabel(\"Epochs\")\n",
    "plt.ylabel(\"Loss\")\n",
    "plt.legend()\n",
    "plt.show()"
   ]
  },
  {
   "cell_type": "code",
   "execution_count": null,
   "id": "0a566ff5",
   "metadata": {},
   "outputs": [],
   "source": [
    "# پیش‌بینی\n",
    "new_text = input()\n",
    "encoded_new_text = np.array([multi_hot_encode(new_text, vocab)])\n",
    "prediction = model.predict(encoded_new_text)\n",
    "predicted_index = np.argmax(prediction)\n",
    "print(f'Predicted emoji index: {predicted_index}')\n"
   ]
  },
  {
   "cell_type": "code",
   "execution_count": null,
   "id": "50d54418",
   "metadata": {},
   "outputs": [],
   "source": [
    "emoji_dict = {\"❤\":0 , \"⚾\" : 1 , \"😀\":2 , \"😔\" : 3 , \"🍴\":4}\n",
    "for key , value in emoji_dict.items():\n",
    "    if predicted_index==value:\n",
    "        print(key)"
   ]
  },
  {
   "cell_type": "markdown",
   "id": "c58d75f6",
   "metadata": {},
   "source": [
    "# BOW"
   ]
  },
  {
   "cell_type": "code",
   "execution_count": 20,
   "id": "2f5be823",
   "metadata": {},
   "outputs": [],
   "source": [
    "import numpy as np\n",
    "import pandas as pd\n",
    "from sklearn.feature_extraction.text import CountVectorizer\n",
    "\n",
    "train = pd.read_csv(\"train_emoji.csv\")\n",
    "test = pd.read_csv(\"tesss.csv\")\n",
    "x_train = train.iloc[: , 0]\n",
    "y_train = train.iloc[: , 1]\n",
    "x_test = test.iloc[: , 0]\n",
    "y_test = test.iloc[: , 1]\n",
    "\n",
    "x_train = x_train.tolist()\n",
    "y_train = y_train.tolist()\n",
    "x_test = x_test.tolist()\n",
    "y_test = y_test.tolist()\n",
    "\n",
    "# تبدیل متن به بردارهای BOW\n",
    "vectorizer = CountVectorizer()\n",
    "x_train_bow = vectorizer.fit_transform(x_train)\n",
    "x_test_bow = vectorizer.transform(x_test)\n",
    "\n",
    "# تبدیل لیبل‌ها به آرایه numpy\n",
    "y_train = np.array(y_train)\n",
    "y_test = np.array(y_test)\n",
    "\n",
    "# تعداد کلاس‌ها (ایموجی‌ها)\n",
    "num_classes = len(set(y_train) | set(y_test))\n"
   ]
  },
  {
   "cell_type": "code",
   "execution_count": 23,
   "id": "2ed487a3",
   "metadata": {},
   "outputs": [
    {
     "name": "stdout",
     "output_type": "stream",
     "text": [
      "Epoch 1/10\n",
      "5/5 [==============================] - 2s 167ms/step - loss: 1.5821 - accuracy: 0.2595 - val_loss: 1.5644 - val_accuracy: 0.3091\n",
      "Epoch 2/10\n",
      "5/5 [==============================] - 0s 23ms/step - loss: 1.5195 - accuracy: 0.3282 - val_loss: 1.5370 - val_accuracy: 0.3091\n",
      "Epoch 3/10\n",
      "5/5 [==============================] - 0s 23ms/step - loss: 1.4672 - accuracy: 0.3740 - val_loss: 1.5110 - val_accuracy: 0.3091\n",
      "Epoch 4/10\n",
      "5/5 [==============================] - 0s 24ms/step - loss: 1.4138 - accuracy: 0.4275 - val_loss: 1.4892 - val_accuracy: 0.2909\n",
      "Epoch 5/10\n",
      "5/5 [==============================] - 0s 24ms/step - loss: 1.3628 - accuracy: 0.5115 - val_loss: 1.4685 - val_accuracy: 0.3455\n",
      "Epoch 6/10\n",
      "5/5 [==============================] - 0s 23ms/step - loss: 1.3095 - accuracy: 0.5878 - val_loss: 1.4428 - val_accuracy: 0.3636\n",
      "Epoch 7/10\n",
      "5/5 [==============================] - 0s 24ms/step - loss: 1.2508 - accuracy: 0.6336 - val_loss: 1.4153 - val_accuracy: 0.4000\n",
      "Epoch 8/10\n",
      "5/5 [==============================] - 0s 22ms/step - loss: 1.1875 - accuracy: 0.6794 - val_loss: 1.3866 - val_accuracy: 0.3818\n",
      "Epoch 9/10\n",
      "5/5 [==============================] - 0s 21ms/step - loss: 1.1191 - accuracy: 0.7176 - val_loss: 1.3561 - val_accuracy: 0.3818\n",
      "Epoch 10/10\n",
      "5/5 [==============================] - 0s 24ms/step - loss: 1.0472 - accuracy: 0.7710 - val_loss: 1.3232 - val_accuracy: 0.4000\n"
     ]
    }
   ],
   "source": [
    "import tensorflow as tf\n",
    "from tensorflow.keras.models import Sequential\n",
    "from tensorflow.keras.layers import Dense\n",
    "\n",
    "# ساخت مدل\n",
    "model = Sequential()\n",
    "model.add(Dense(128, input_dim=X_train_bow.shape[1], activation='relu'))\n",
    "model.add(Dense(64, activation='relu'))\n",
    "model.add(Dense(num_classes, activation='softmax'))\n",
    "\n",
    "# کامپایل مدل\n",
    "model.compile(optimizer='adam', loss='sparse_categorical_crossentropy', metrics=['accuracy'])\n",
    "\n",
    "# آموزش مدل\n",
    "history = model.fit(x_train_bow.toarray(), y_train, epochs=10, \n",
    "                    batch_size=32, validation_data=(x_test_bow.toarray(), y_test))\n"
   ]
  },
  {
   "cell_type": "code",
   "execution_count": 24,
   "id": "e31e53ab",
   "metadata": {},
   "outputs": [
    {
     "name": "stdout",
     "output_type": "stream",
     "text": [
      "2/2 [==============================] - 0s 5ms/step - loss: 1.3232 - accuracy: 0.4000\n",
      "Accuracy on test data: 40.00%\n"
     ]
    }
   ],
   "source": [
    "# ارزیابی مدل روی داده‌های تست\n",
    "loss, accuracy = model.evaluate(X_test_bow.toarray(), y_test)\n",
    "print(f'Accuracy on test data: {accuracy * 100:.2f}%')\n",
    "\n"
   ]
  },
  {
   "cell_type": "code",
   "execution_count": null,
   "id": "d23cad47",
   "metadata": {},
   "outputs": [],
   "source": [
    "# رسم نمودارهای loss و accuracy\n",
    "import matplotlib.pyplot as plt\n",
    "\n",
    "# رسم نمودار loss\n",
    "plt.plot(history.history['loss'], label='Train Loss')\n",
    "plt.plot(history.history['val_loss'], label='Validation Loss')\n",
    "plt.xlabel('Epoch')\n",
    "plt.ylabel('Loss')\n",
    "plt.legend()\n",
    "plt.title('Loss over Epochs')\n",
    "plt.show()\n",
    "\n",
    "# رسم نمودار accuracy\n",
    "plt.plot(history.history['accuracy'], label='Train Accuracy')\n",
    "plt.plot(history.history['val_accuracy'], label='Validation Accuracy')\n",
    "plt.xlabel('Epoch')\n",
    "plt.ylabel('Accuracy')\n",
    "plt.legend()\n",
    "plt.title('Accuracy over Epochs')\n",
    "plt.show()\n"
   ]
  },
  {
   "cell_type": "code",
   "execution_count": null,
   "id": "b9d39038",
   "metadata": {},
   "outputs": [],
   "source": [
    "def predict_emoji(text, model, vectorizer):\n",
    "    # Transform the input text to BOW representation\n",
    "    text_bow = vectorizer.transform([text])\n",
    "    \n",
    "    # Predict the emoji index\n",
    "    predicted_probs = model.predict(text_bow.toarray())\n",
    "    predicted_index = np.argmax(predicted_probs, axis=1)[0]\n",
    "    \n",
    "    return predicted_index\n",
    "\n",
    "# Example usage:\n",
    "text = input()\n",
    "predicted_index = predict_emoji(text, model, vectorizer)\n",
    "print(f'Predicted emoji index for \"{text}\": {predicted_index}')"
   ]
  },
  {
   "cell_type": "code",
   "execution_count": null,
   "id": "67070ed0",
   "metadata": {},
   "outputs": [],
   "source": [
    "emoji_dict = {\"❤\":0 , \"⚾\" : 1 , \"😀\":2 , \"😔\" : 3 , \"🍴\":4}\n",
    "for key , value in emoji_dict.items():\n",
    "    if predicted_index==value:\n",
    "        print(key)"
   ]
  },
  {
   "cell_type": "code",
   "execution_count": null,
   "id": "ea7ea85a",
   "metadata": {},
   "outputs": [],
   "source": []
  },
  {
   "cell_type": "code",
   "execution_count": null,
   "id": "e321ce99",
   "metadata": {},
   "outputs": [],
   "source": []
  }
 ],
 "metadata": {
  "kernelspec": {
   "display_name": "Python 3 (ipykernel)",
   "language": "python",
   "name": "python3"
  },
  "language_info": {
   "codemirror_mode": {
    "name": "ipython",
    "version": 3
   },
   "file_extension": ".py",
   "mimetype": "text/x-python",
   "name": "python",
   "nbconvert_exporter": "python",
   "pygments_lexer": "ipython3",
   "version": "3.10.9"
  }
 },
 "nbformat": 4,
 "nbformat_minor": 5
}
